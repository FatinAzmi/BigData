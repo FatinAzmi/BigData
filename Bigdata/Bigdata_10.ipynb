{
  "nbformat": 4,
  "nbformat_minor": 0,
  "metadata": {
    "colab": {
      "provenance": []
    },
    "kernelspec": {
      "name": "python3",
      "display_name": "Python 3"
    },
    "language_info": {
      "name": "python"
    }
  },
  "cells": [
    {
      "cell_type": "code",
      "execution_count": null,
      "metadata": {
        "id": "LJruBg5G2lWX"
      },
      "outputs": [],
      "source": [
        "from pymongo import MongoClient\n",
        "\n",
        "# Inisialisasi koneksi ke MongoDB\n",
        "client = MongoClient('mongodb://localhost:27017/')\n",
        "\n",
        "# Membuat atau memilih database 'company_db'\n",
        "db = client['company_db']\n",
        "\n",
        "# Membuat atau memilih koleksi 'employees'\n",
        "collection = db['employees']\n",
        "\n",
        "# Menambahkan data ke koleksi\n",
        "employees = [\n",
        "    {'name': 'Alice', 'department': 'Finance', 'age': 29, 'salary': 4500},\n",
        "    {'name': 'Ferdi sambo', 'department': 'HR', 'age': 50, 'salary': 4000},\n",
        "    {'name': 'Jing Yuan', 'department': 'Finance', 'age': 428, 'salary': 4800},\n",
        "    {'name': 'Fugue', 'department': 'IT', 'age': 29, 'salary': 5500}\n",
        "]\n",
        "collection.insert_many(employees)\n",
        "\n",
        "print('Data inserted successfully!')\n",
        "\n",
        "# Menampilkan data untuk verifikasi\n",
        "print('\\nData Karyawan:')\n",
        "for employee in collection.find():\n",
        "    print(employee)\n"
      ]
    },
    {
      "cell_type": "code",
      "source": [
        "from pymongo import MongoClient\n",
        "\n",
        "# Sambungkan ke MongoDB\n",
        "client = MongoClient('mongodb://localhost:27017/')  # Sesuaikan jika menggunakan port atau URL lain\n",
        "db = client['company_db']\n",
        "collection = db['employees']\n",
        "\n",
        "# Aggregation pipeline untuk mendapatkan 5 karyawan dengan gaji tertinggi per departemen\n",
        "pipeline = [\n",
        "    {\"$sort\": {\"department\": 1, \"salary\": -1}},  # Urutkan berdasarkan departemen dan gaji tertinggi\n",
        "    {\"$group\": {\n",
        "        \"_id\": \"$department\",  # Kelompokkan berdasarkan departemen\n",
        "        \"top_employees\": {\"$push\": {\"name\": \"$name\", \"salary\": \"$salary\"}}  # Simpan semua karyawan\n",
        "    }},\n",
        "    {\"$project\": {\n",
        "        \"top_employees\": {\"$slice\": [\"$top_employees\", 5]}  # Ambil hanya 5 karyawan teratas\n",
        "    }}\n",
        "]\n",
        "\n",
        "# Jalankan aggregation pipeline\n",
        "result = collection.aggregate(pipeline)\n",
        "\n",
        "# Tampilkan hasil\n",
        "for dept in result:\n",
        "    print(f\"Department: {dept['_id']}\")\n",
        "    for emp in dept['top_employees']:\n",
        "        print(f\"  Name: {emp['name']}, Salary: {emp['salary']}\")\n"
      ],
      "metadata": {
        "colab": {
          "base_uri": "https://localhost:8080/",
          "height": 401
        },
        "id": "62wgTonvNROk",
        "outputId": "6425cf39-d2aa-4d85-ed0b-13dc1592a925"
      },
      "execution_count": null,
      "outputs": [
        {
          "output_type": "error",
          "ename": "ModuleNotFoundError",
          "evalue": "No module named 'pymongo'",
          "traceback": [
            "\u001b[0;31m---------------------------------------------------------------------------\u001b[0m",
            "\u001b[0;31mModuleNotFoundError\u001b[0m                       Traceback (most recent call last)",
            "\u001b[0;32m<ipython-input-1-f757287978a3>\u001b[0m in \u001b[0;36m<cell line: 1>\u001b[0;34m()\u001b[0m\n\u001b[0;32m----> 1\u001b[0;31m \u001b[0;32mfrom\u001b[0m \u001b[0mpymongo\u001b[0m \u001b[0;32mimport\u001b[0m \u001b[0mMongoClient\u001b[0m\u001b[0;34m\u001b[0m\u001b[0;34m\u001b[0m\u001b[0m\n\u001b[0m\u001b[1;32m      2\u001b[0m \u001b[0;34m\u001b[0m\u001b[0m\n\u001b[1;32m      3\u001b[0m \u001b[0;31m# Sambungkan ke MongoDB\u001b[0m\u001b[0;34m\u001b[0m\u001b[0;34m\u001b[0m\u001b[0m\n\u001b[1;32m      4\u001b[0m \u001b[0mclient\u001b[0m \u001b[0;34m=\u001b[0m \u001b[0mMongoClient\u001b[0m\u001b[0;34m(\u001b[0m\u001b[0;34m'mongodb://localhost:27017/'\u001b[0m\u001b[0;34m)\u001b[0m  \u001b[0;31m# Sesuaikan jika menggunakan port atau URL lain\u001b[0m\u001b[0;34m\u001b[0m\u001b[0;34m\u001b[0m\u001b[0m\n\u001b[1;32m      5\u001b[0m \u001b[0mdb\u001b[0m \u001b[0;34m=\u001b[0m \u001b[0mclient\u001b[0m\u001b[0;34m[\u001b[0m\u001b[0;34m'company_db'\u001b[0m\u001b[0;34m]\u001b[0m\u001b[0;34m\u001b[0m\u001b[0;34m\u001b[0m\u001b[0m\n",
            "\u001b[0;31mModuleNotFoundError\u001b[0m: No module named 'pymongo'",
            "",
            "\u001b[0;31m---------------------------------------------------------------------------\u001b[0;32m\nNOTE: If your import is failing due to a missing package, you can\nmanually install dependencies using either !pip or !apt.\n\nTo view examples of installing some common dependencies, click the\n\"Open Examples\" button below.\n\u001b[0;31m---------------------------------------------------------------------------\u001b[0m\n"
          ],
          "errorDetails": {
            "actions": [
              {
                "action": "open_url",
                "actionText": "Open Examples",
                "url": "/notebooks/snippets/importing_libraries.ipynb"
              }
            ]
          }
        }
      ]
    },
    {
      "cell_type": "code",
      "source": [],
      "metadata": {
        "id": "JJ0yD0_yNR2j"
      },
      "execution_count": null,
      "outputs": []
    }
  ]
}