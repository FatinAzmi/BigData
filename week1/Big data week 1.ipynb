{
 "cells": [
  {
   "cell_type": "code",
   "execution_count": 1,
   "id": "fed18d1c-4b91-415d-b8df-0a2019192e80",
   "metadata": {},
   "outputs": [],
   "source": [
    "import findspark\n",
    "findspark.init()"
   ]
  },
  {
   "cell_type": "markdown",
   "id": "e11897f3-8e20-4101-91aa-d40b4c906fb1",
   "metadata": {},
   "source": [
    "Import findspark untuk menjalankan PySpark di lingkungan Python yang tidak otomatis mendeteksi instalasi Spark."
   ]
  },
  {
   "cell_type": "code",
   "execution_count": 2,
   "id": "26c064c3-dfdb-4386-9d86-f2c1230e01c8",
   "metadata": {
    "scrolled": true
   },
   "outputs": [
    {
     "name": "stdout",
     "output_type": "stream",
     "text": [
      "+-----+----+-----------------+----------+------+\n",
      "| Nama|Usia|        Pekerjaan|      Hobi|Gender|\n",
      "+-----+----+-----------------+----------+------+\n",
      "|  Ali|  34|      Cuci Piring|     Nyuci|     L|\n",
      "| Budi|  23|              MUA| Memancing|     L|\n",
      "|Citra|  29|     Pengangguran|     Tidur|     P|\n",
      "| Dina|  45|Pemadam Kebakaran|Mainan Api|     P|\n",
      "+-----+----+-----------------+----------+------+\n",
      "\n"
     ]
    }
   ],
   "source": [
    "from pyspark.sql import SparkSession\n",
    "\n",
    "# Memulai Spark session\n",
    "spark = SparkSession.builder.appName(\"BigDataPractice\").getOrCreate()\n",
    "\n",
    "# Membuat DataFrame sederhana\n",
    "data = [(\"Ali\", 34, \"Cuci Piring\", \"Nyuci\", \"L\"), (\"Budi\", 23, \"MUA\", \"Memancing\", \"L\"), (\"Citra\", 29, \"Pengangguran\", \"Tidur\", \"P\"), (\"Dina\", 45, \"Pemadam Kebakaran\", \"Mainan Api\", \"P\")]\n",
    "columns = [\"Nama\", \"Usia\", \"Pekerjaan\", \"Hobi\", \"Gender\"]\n",
    "df = spark.createDataFrame(data, columns)\n",
    "\n",
    "# Menampilkan DataFrame\n",
    "df.show()\n"
   ]
  },
  {
   "cell_type": "markdown",
   "id": "addf69f0-bf2b-45fd-8885-ec902a96c6e2",
   "metadata": {},
   "source": [
    "- SparkSession digunakan untuk memulai sesi dengan nama aplikasi \"BigDataPractice\". <br>\n",
    "- spark.createDataFrame(data, columns) digunakan untuk membuat DataFrame PySpark dari data yang diberi. <br>\n",
    "- df.show digunakan untuk menampilkan isi DataFrame di konsol dengan tampilan tabel."
   ]
  },
  {
   "cell_type": "code",
   "execution_count": 14,
   "id": "123812ef-7759-4717-b0e2-d2c3af02bd5d",
   "metadata": {},
   "outputs": [
    {
     "name": "stdout",
     "output_type": "stream",
     "text": [
      "+-----+----+-----------------+----------+------+\n",
      "| Nama|Usia|        Pekerjaan|      Hobi|Gender|\n",
      "+-----+----+-----------------+----------+------+\n",
      "|  Ali|  34|      Cuci Piring|     Nyuci|     L|\n",
      "| Budi|  23|              MUA| Memancing|     L|\n",
      "|Citra|  29|     Pengangguran|     Tidur|     P|\n",
      "| Dina|  45|Pemadam Kebakaran|Mainan Api|     P|\n",
      "+-----+----+-----------------+----------+------+\n",
      "\n",
      "+----+----+-----------------+----------+------+\n",
      "|Nama|Usia|        Pekerjaan|      Hobi|Gender|\n",
      "+----+----+-----------------+----------+------+\n",
      "| Ali|  34|      Cuci Piring|     Nyuci|     L|\n",
      "|Dina|  45|Pemadam Kebakaran|Mainan Api|     P|\n",
      "+----+----+-----------------+----------+------+\n",
      "\n",
      "+---------+\n",
      "|avg(Usia)|\n",
      "+---------+\n",
      "|    32.75|\n",
      "+---------+\n",
      "\n",
      "+-----+----+-----------------+----------+------+\n",
      "| Nama|Usia|        Pekerjaan|      Hobi|Gender|\n",
      "+-----+----+-----------------+----------+------+\n",
      "| Budi|  23|              MUA| Memancing|     L|\n",
      "|Citra|  29|     Pengangguran|     Tidur|     P|\n",
      "|  Ali|  34|      Cuci Piring|     Nyuci|     L|\n",
      "| Dina|  45|Pemadam Kebakaran|Mainan Api|     P|\n",
      "+-----+----+-----------------+----------+------+\n",
      "\n"
     ]
    }
   ],
   "source": [
    "from pyspark.sql import SparkSession\n",
    "from pyspark.sql.functions import avg\n",
    "\n",
    "# Memulai Spark session\n",
    "spark = SparkSession.builder.appName(\"BigDataPractice\").getOrCreate()\n",
    "\n",
    "# Membuat DataFrame sederhana\n",
    "data = [(\"Ali\", 34, \"Cuci Piring\", \"Nyuci\", \"L\"), (\"Budi\", 23, \"MUA\", \"Memancing\", \"L\"), (\"Citra\", 29, \"Pengangguran\", \"Tidur\", \"P\"), (\"Dina\", 45, \"Pemadam Kebakaran\", \"Mainan Api\", \"P\")]\n",
    "columns = [\"Nama\", \"Usia\", \"Pekerjaan\", \"Hobi\", \"Gender\"]\n",
    "df = spark.createDataFrame(data, columns)\n",
    "\n",
    "# Menampilkan DataFrame\n",
    "df.show()\n",
    "\n",
    "# Filtering data\n",
    "df_filtered = df.filter(df['Usia'] > 30)\n",
    "df_filtered.show()\n",
    "\n",
    "# Menghitung rata-rata usia\n",
    "df.groupBy().agg(avg(\"Usia\")).show()\n",
    "\n",
    "# Mengurutkan data berdasarkan usia\n",
    "df_sorted = df.orderBy(\"Usia\", ascending=True)\n",
    "df_sorted.show()\n"
   ]
  },
  {
   "cell_type": "markdown",
   "id": "89e79d6f-3b11-406d-9a14-e47ab2bcd0cf",
   "metadata": {},
   "source": [
    "Menggunakan data sebelumnya, melakukan operasi dasar seperti filtering, agregasi, dan pengurutan dalam PySpark. <br>\n",
    "\n",
    "- df_filtered = df.filter(df['Usia'] > 30) hanya menampilkan usia diatas umur 30. <br>\n",
    "- df.groupBy().agg(avg(\"Usia\")).show() digunakan untuk menampilkan rata-rata nilai kolom 'Usia'. <br>\n",
    "- df_sorted = df.orderBy(\"Usia\", ascending=False) digunakan untuk menampilkan data yang telah diurutkan."
   ]
  },
  {
   "cell_type": "code",
   "execution_count": 4,
   "id": "4822b058-c6cc-4cc9-8f47-76e52e2d72ac",
   "metadata": {},
   "outputs": [
    {
     "data": {
      "text/html": [
       "<div>\n",
       "<style scoped>\n",
       "    .dataframe tbody tr th:only-of-type {\n",
       "        vertical-align: middle;\n",
       "    }\n",
       "\n",
       "    .dataframe tbody tr th {\n",
       "        vertical-align: top;\n",
       "    }\n",
       "\n",
       "    .dataframe thead th {\n",
       "        text-align: right;\n",
       "    }\n",
       "</style>\n",
       "<table border=\"1\" class=\"dataframe\">\n",
       "  <thead>\n",
       "    <tr style=\"text-align: right;\">\n",
       "      <th></th>\n",
       "      <th>Nama</th>\n",
       "      <th>Usia</th>\n",
       "      <th>Pekerjaan</th>\n",
       "      <th>Hobi</th>\n",
       "      <th>Gender</th>\n",
       "    </tr>\n",
       "  </thead>\n",
       "  <tbody>\n",
       "    <tr>\n",
       "      <th>0</th>\n",
       "      <td>Ali</td>\n",
       "      <td>34</td>\n",
       "      <td>Cuci Piring</td>\n",
       "      <td>Nyuci</td>\n",
       "      <td>L</td>\n",
       "    </tr>\n",
       "    <tr>\n",
       "      <th>1</th>\n",
       "      <td>Budi</td>\n",
       "      <td>23</td>\n",
       "      <td>MUA</td>\n",
       "      <td>Memancing</td>\n",
       "      <td>L</td>\n",
       "    </tr>\n",
       "    <tr>\n",
       "      <th>2</th>\n",
       "      <td>Citra</td>\n",
       "      <td>29</td>\n",
       "      <td>Pengangguran</td>\n",
       "      <td>Tidur</td>\n",
       "      <td>P</td>\n",
       "    </tr>\n",
       "    <tr>\n",
       "      <th>3</th>\n",
       "      <td>Dina</td>\n",
       "      <td>45</td>\n",
       "      <td>Pemadam Kebakaran</td>\n",
       "      <td>Mainan Api</td>\n",
       "      <td>P</td>\n",
       "    </tr>\n",
       "  </tbody>\n",
       "</table>\n",
       "</div>"
      ],
      "text/plain": [
       "    Nama  Usia          Pekerjaan        Hobi Gender\n",
       "0    Ali    34        Cuci Piring       Nyuci      L\n",
       "1   Budi    23                MUA   Memancing      L\n",
       "2  Citra    29       Pengangguran       Tidur      P\n",
       "3   Dina    45  Pemadam Kebakaran  Mainan Api      P"
      ]
     },
     "execution_count": 4,
     "metadata": {},
     "output_type": "execute_result"
    }
   ],
   "source": [
    "import pandas as pd\n",
    "\n",
    "# Membuat DataFrame Pandas\n",
    "data_pandas = {\"Nama\": [\"Ali\", \"Budi\", \"Citra\", \"Dina\"], \"Usia\": [34, 23, 29, 45], \"Pekerjaan\": [\"Cuci Piring\", \"MUA\", \"Pengangguran\", \"Pemadam Kebakaran\"], \"Hobi\": [\"Nyuci\",\"Memancing\",\"Tidur\",\"Mainan Api\"], \"Gender\": [\"L\",\"L\",\"P\",\"P\"]}\n",
    "df_pandas = pd.DataFrame(data_pandas)\n",
    "\n",
    "# Menampilkan DataFrame Pandas\n",
    "df_pandas"
   ]
  },
  {
   "cell_type": "markdown",
   "id": "4c2f06a9-db2d-4cab-9bd1-eb980d620b89",
   "metadata": {},
   "source": [
    "Menggunakan pandas sebagai library\n",
    "- data_pandas = digunakan untuk mengisi data disini tabel berisi nama,usia,pekerjaan, dan hobi\n",
    "- df_pandas = perintah untuk mengubah data_pandas menjadi bentuk tabel\n",
    "- df_panda = untuk menmpilkan tabel yang telah berisi data."
   ]
  },
  {
   "cell_type": "code",
   "execution_count": 5,
   "id": "980448aa-1064-4b70-8644-e8a54a7ae160",
   "metadata": {},
   "outputs": [
    {
     "name": "stdout",
     "output_type": "stream",
     "text": [
      "    Nama  Usia          Pekerjaan\n",
      "0    Ali    34        Cuci Piring\n",
      "1   Budi    23                MUA\n",
      "2  Citra    29        Pegangguran\n",
      "3   Dina    45  Pemadam kebakaran\n",
      "            Usia\n",
      "count   4.000000\n",
      "mean   32.750000\n",
      "std     9.322911\n",
      "min    23.000000\n",
      "25%    27.500000\n",
      "50%    31.500000\n",
      "75%    36.750000\n",
      "max    45.000000\n"
     ]
    },
    {
     "data": {
      "image/png": "[encoded data removed]",
      "text/plain": [
       "<Figure size 640x480 with 1 Axes>"
      ]
     },
     "metadata": {},
     "output_type": "display_data"
    }
   ],
   "source": [
    "import pandas as pd\n",
    "\n",
    "# Membuat DataFrame Pandas\n",
    "data_pandas = {\"Nama\": [\"Ali\", \"Budi\", \"Citra\", \"Dina\"], \"Usia\": [34, 23, 29, 45]}\n",
    "df_pandas = pd.DataFrame(data_pandas)\n",
    "\n",
    "# Membuat DataFrame kedua\n",
    "data_pandas_2 = {\"Nama\": [\"Ali\", \"Budi\", \"Citra\", \"Dina\"], \"Pekerjaan\": [\"Cuci Piring\", \"MUA\", \"Pegangguran\", \"Pemadam kebakaran\"]}\n",
    "df_pandas_2 = pd.DataFrame(data_pandas_2)\n",
    "\n",
    "# Join antara dua DataFrame\n",
    "df_joined = pd.merge(df_pandas, df_pandas_2, on=\"Nama\")\n",
    "print(df_joined)\n",
    "\n",
    "# Menghitung statistik deskriptif\n",
    "print(df_pandas.describe())\n",
    "\n",
    "# Plotting Data\n",
    "import matplotlib.pyplot as plt\n",
    "df_pandas['Usia'].plot(kind='bar')\n",
    "plt.show()\n"
   ]
  },
  {
   "cell_type": "markdown",
   "id": "0b6a3f60-1057-4987-8132-e963e4cb520a",
   "metadata": {
    "tags": []
   },
   "source": [
    "- Df pandas <br>\n",
    "- data_pandas = digunakan untuk mengisi data disini tabel berisi nama dan usia <br>\n",
    "- df_pandas = perintah untuk mengubah data_pandas menjadi bentuk tabel <br>\n",
    "- data_pandas_2  = Digunakan untuk mengisi data Nama dan Pekerjaan <br>\n",
    "- df_joined = pd.merge(df_pandas, df_pandas_2, on=\"Nama\") = perintah untuk menggabungkan data panda 1 dan data panda kedua <br>\n",
    "- (df_joined) = perintaah untuk menampilkan df_joined <br>\n",
    "- df_pandas[Usia] . plot(kind='bar') <br>\n",
    "- plt.show() = perintah untuk menampilkan matplotlip untuk menampilkan grafik yang didasarkan usia bertipe bar <br> "
   ]
  },
  {
   "cell_type": "code",
   "execution_count": 11,
   "id": "5eb316bf-d06e-457c-9f03-be3b59dfc761",
   "metadata": {},
   "outputs": [
    {
     "name": "stdout",
     "output_type": "stream",
     "text": [
      "+-----+----+\n",
      "| Nama|Usia|\n",
      "+-----+----+\n",
      "|  Ali|  34|\n",
      "| Budi|  23|\n",
      "|Citra|  29|\n",
      "| Dina|  45|\n",
      "+-----+----+\n",
      "\n",
      "+---------+\n",
      "|avg(Usia)|\n",
      "+---------+\n",
      "|    32.75|\n",
      "+---------+\n",
      "\n"
     ]
    }
   ],
   "source": [
    "# Mengonversi DataFrame dari PySpark ke Pandas\n",
    "df_pandas_from_spark = df.toPandas()\n",
    "\n",
    "# Mengonversi DataFrame dari Pandas ke PySpark\n",
    "df_spark_from_pandas = spark.createDataFrame(df_pandas)\n",
    "\n",
    "# Menampilkan DataFrame hasil konversi\n",
    "df_pandas_from_spark, df_spark_from_pandas.show()\n",
    "\n",
    "# Menghitung rata-rata usia\n",
    "from pyspark.sql.functions import avg\n",
    "df.groupBy().agg(avg(\"Usia\")).show()"
   ]
  },
  {
   "cell_type": "markdown",
   "id": "425913d2-3f74-4bd8-985c-5e68ef62c04c",
   "metadata": {},
   "source": [
    "- df_pandas_from_spark = df.toPandas() = perintah untuk mengimpor data dari pysaprk ke pandas <br>\n",
    "- df_spark_from_pandas = spark.createDataFrame(df_pandas) = perintah membuat dataframe dari pyspark <br>\n",
    "- df_pandas_from_spark, df_spark_from_pandas.show() = perintah untuk memnampilkan dataaprak dan pandas <br>\n",
    "- df.groupBy().agg(avg(\"Usia\")).show() = perintah untuk nebghitung rata rata berdasarkan usia dan menampilkannya <br>"
   ]
  },
  {
   "cell_type": "code",
   "execution_count": 12,
   "id": "4411446c-acf0-4a22-bc33-d65c58674d34",
   "metadata": {},
   "outputs": [
    {
     "name": "stdout",
     "output_type": "stream",
     "text": [
      "+-----+----+\n",
      "| Nama|Usia|\n",
      "+-----+----+\n",
      "|  Ali|  34|\n",
      "| Budi|  23|\n",
      "|Citra|  29|\n",
      "| Dina|  45|\n",
      "+-----+----+\n",
      "\n",
      "    Nama  Usia          Pekerjaan\n",
      "0    Ali    34        Cuci Piring\n",
      "1   Budi    23                MUA\n",
      "2  Citra    29        Pegangguran\n",
      "3   Dina    45  Pemadam kebakaran\n",
      "\n",
      "            Usia\n",
      "count   4.000000\n",
      "mean   32.750000\n",
      "std     9.322911\n",
      "min    23.000000\n",
      "25%    27.500000\n",
      "50%    31.500000\n",
      "75%    36.750000\n",
      "max    45.000000\n"
     ]
    }
   ],
   "source": [
    "# Mengonversi DataFrame dari PySpark ke Pandas\n",
    "df_pandas_from_spark = df.toPandas()\n",
    "\n",
    "# Mengonversi DataFrame dari Pandas ke PySpark\n",
    "df_spark_from_pandas = spark.createDataFrame(df_pandas)\n",
    "\n",
    "# Menampilkan DataFrame hasil konversi\n",
    "df_pandas_from_spark, df_spark_from_pandas.show()\n",
    "\n",
    "# Join antara dua DataFrame\n",
    "df_joined = pd.merge(df_pandas, df_pandas_2, on=\"Nama\")\n",
    "print(df_joined)\n",
    "\n",
    "# Menghitung statistik deskriptif\n",
    "print()\n",
    "print(df_pandas.describe())"
   ]
  },
  {
   "cell_type": "markdown",
   "id": "fa11c900-a9c9-40a2-8c22-082e2eeb13d5",
   "metadata": {},
   "source": [
    "- df_pandas_from_spark = df.toPandas() = perintah untuk mengimpor data dari pysaprk ke pandas <br>\n",
    "- df_spark_from_pandas = spark.createDataFrame(df_pandas) = perintah membuat dataframe dari pyspark <br>\n",
    "- df_pandas_from_spark, df_spark_from_pandas.show() = perintah untuk memnampilkan dataaprak dan pandas <br>\n",
    "- df_joined = pd.merge(df_pandas, df_pandas_2, on=\"Nama\") = perintah untuk menggabungkan data panda1 dan 2 berdassarkan nama <br>\n",
    "- print(df_joined) <br>\n",
    "- print(df_pandas.describe()) = perintah untuk mendeskripsikan <br>"
   ]
  },
  {
   "cell_type": "code",
   "execution_count": null,
   "id": "928da3c4-d10f-44c1-8bc8-ad5f7638238b",
   "metadata": {},
   "outputs": [],
   "source": []
  }
 ],
 "metadata": {
  "kernelspec": {
   "display_name": "Python 3 (ipykernel)",
   "language": "python",
   "name": "python3"
  },
  "language_info": {
   "codemirror_mode": {
    "name": "ipython",
    "version": 3
   },
   "file_extension": ".py",
   "mimetype": "text/x-python",
   "name": "python",
   "nbconvert_exporter": "python",
   "pygments_lexer": "ipython3",
   "version": "3.11.9"
  }
 },
 "nbformat": 4,
 "nbformat_minor": 5
}
